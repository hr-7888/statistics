{
 "cells": [
  {
   "cell_type": "markdown",
   "id": "fb52fc04",
   "metadata": {},
   "source": [
    "# part1- Data Collection"
   ]
  },
  {
   "cell_type": "markdown",
   "id": "a68bf19e",
   "metadata": {},
   "source": [
    "# what is Data"
   ]
  },
  {
   "cell_type": "code",
   "execution_count": null,
   "id": "8d5d7507",
   "metadata": {},
   "outputs": [],
   "source": [
    "Any observation that have been collected that is called data\n",
    "ex-group of people,weight,address,tempture,dates,distance,etc"
   ]
  },
  {
   "cell_type": "markdown",
   "id": "4e17a5d8",
   "metadata": {},
   "source": [
    "# How many data are there"
   ]
  },
  {
   "cell_type": "markdown",
   "id": "5fbbb6c6",
   "metadata": {},
   "source": [
    "There are Two types of data\n",
    "- 1.Quantitative/numerical/math\n",
    "     -  ex-height,weight,tempture,\n",
    "- 2.Qualitative/catogorical/english/non-numeric\n",
    "     - ex-colour,gender,race,religion"
   ]
  },
  {
   "cell_type": "markdown",
   "id": "5b3e34d1",
   "metadata": {},
   "source": [
    "# .Qualitative/catogorical/english/non-numeric\n"
   ]
  },
  {
   "cell_type": "markdown",
   "id": "d85b0295",
   "metadata": {},
   "source": [
    "- Qualitative data might have number but not necessaryly to  something mathematical operations are meaning less/meaningless\n",
    "- ex-Zip code,phone number-if we do mathematic on zip code/phone number there is no sence"
   ]
  },
  {
   "cell_type": "markdown",
   "id": "74c74b12",
   "metadata": {},
   "source": [
    "# . Quantitative/Numerical"
   ]
  },
  {
   "cell_type": "markdown",
   "id": "8c21f1e3",
   "metadata": {},
   "source": [
    "- We can do Mathematics on Quantitaive data/mathematical Operatins are meaning full\n",
    "- ex-Height,Weight,tempture,Wages,etc\n",
    "- There are two types of Quantitative Data\n",
    "    - 1.Discrete Data\n",
    "    - 2.Continious Data"
   ]
  },
  {
   "cell_type": "markdown",
   "id": "dbc4994e",
   "metadata": {},
   "source": [
    "# Descrete Data"
   ]
  },
  {
   "cell_type": "markdown",
   "id": "6afe2643",
   "metadata": {},
   "source": [
    "- Countable and Finite\n",
    "- ex- no. of eggs,dice\n",
    "- Usualy a count"
   ]
  },
  {
   "cell_type": "markdown",
   "id": "4862bed7",
   "metadata": {},
   "source": [
    "# Continious Data"
   ]
  },
  {
   "cell_type": "markdown",
   "id": "e8ae66b6",
   "metadata": {},
   "source": [
    "- Infinite number of possible Values\n",
    "- Not Countable\n",
    "- Usualy a Measurement\n",
    "- ex-weight,Tempture,Height"
   ]
  },
  {
   "cell_type": "markdown",
   "id": "88a41a63",
   "metadata": {},
   "source": [
    "# Levels Of Data"
   ]
  },
  {
   "cell_type": "markdown",
   "id": "402a91b9",
   "metadata": {},
   "source": [
    "# 4 levels of data\n",
    "- 1.Nominal\n",
    "- 2.Ordinal\n",
    "- 3.Interval\n",
    "- 4.Ratio Level"
   ]
  },
  {
   "cell_type": "markdown",
   "id": "05b233e9",
   "metadata": {},
   "source": [
    "- Nominal\n",
    "   \n",
    "   - Nominal data Is a catogorical data\n",
    "   - No Ordered\n",
    "   - ex- Religion,Gender\n",
    "   "
   ]
  },
  {
   "cell_type": "markdown",
   "id": "a081300d",
   "metadata": {},
   "source": [
    "- Ordinal\n",
    "\n",
    "  - The Data has Some Order/can be Ordered\n",
    "  - Differences are MeaningLess\n",
    "      - ex-rank,Colours(spectrum)"
   ]
  },
  {
   "cell_type": "markdown",
   "id": "8aa8a49b",
   "metadata": {},
   "source": [
    "- Interval\n",
    "\n",
    "   - Interval is a Numerical data\n",
    "   - It Has some Order\n",
    "   - Diffrences Are Meaningful\n",
    "   -  No Natural Zero\n",
    "   - ex-tempture\n",
    "\n",
    "  \n"
   ]
  },
  {
   "cell_type": "markdown",
   "id": "21e8a915",
   "metadata": {},
   "source": [
    "- Ratio lavel\n",
    "\n",
    "   - It is a numeric Data\n",
    "   - Just like Interval\n",
    "   - Have a natural Zero \n",
    "   - ex-Amount of money"
   ]
  },
  {
   "cell_type": "code",
   "execution_count": null,
   "id": "e01dc001",
   "metadata": {},
   "outputs": [],
   "source": []
  },
  {
   "cell_type": "markdown",
   "id": "4517a054",
   "metadata": {},
   "source": [
    "# what is statistics?"
   ]
  },
  {
   "cell_type": "code",
   "execution_count": null,
   "id": "1950852f",
   "metadata": {},
   "outputs": [],
   "source": [
    "Collection, Oraganising,Analysizing,Summarize,interpreating,\n",
    "and Draw conclusion on data is known as statistics."
   ]
  },
  {
   "cell_type": "markdown",
   "id": "3d9d160c",
   "metadata": {},
   "source": [
    "# Population"
   ]
  },
  {
   "cell_type": "markdown",
   "id": "53d4ad69",
   "metadata": {},
   "source": [
    "- The complete set of element/data being studied\n",
    "- collection of every object\n",
    "    - ex-population of india"
   ]
  },
  {
   "cell_type": "markdown",
   "id": "e72dd1b4",
   "metadata": {},
   "source": [
    "# census"
   ]
  },
  {
   "cell_type": "markdown",
   "id": "5e32a3c4",
   "metadata": {},
   "source": [
    "- Collecting Data from every member of a population"
   ]
  },
  {
   "cell_type": "markdown",
   "id": "e232e69d",
   "metadata": {},
   "source": [
    "# Parameter"
   ]
  },
  {
   "cell_type": "markdown",
   "id": "1517c3a9",
   "metadata": {},
   "source": [
    "- A characterstics of a Population(p.p)"
   ]
  },
  {
   "cell_type": "markdown",
   "id": "7a55f044",
   "metadata": {},
   "source": [
    "# Sample"
   ]
  },
  {
   "cell_type": "markdown",
   "id": "aecee64d",
   "metadata": {},
   "source": [
    "- The subset of a population\n",
    "- Selecting Some Objects From Corresponding Population\n",
    "     - ex-taking one state population"
   ]
  },
  {
   "cell_type": "markdown",
   "id": "527c8b06",
   "metadata": {},
   "source": [
    "- if we take a sample it must be collected randomly"
   ]
  },
  {
   "cell_type": "markdown",
   "id": "8b000185",
   "metadata": {},
   "source": [
    "# statistic"
   ]
  },
  {
   "cell_type": "markdown",
   "id": "4600ceb4",
   "metadata": {},
   "source": [
    "- A characterstics of a Sample(S.S)"
   ]
  },
  {
   "cell_type": "markdown",
   "id": "8627d742",
   "metadata": {},
   "source": [
    " - Note: we will Take Sample Data Insted Of Population\n",
    "      - Population is huge\n",
    "      - Time Complexcity\n",
    "      - cost Effective"
   ]
  },
  {
   "cell_type": "markdown",
   "id": "df6821e7",
   "metadata": {},
   "source": [
    "# Random"
   ]
  },
  {
   "cell_type": "markdown",
   "id": "38ee52ba",
   "metadata": {},
   "source": [
    "- Each member of a Population has an equal chance of being selected in the Sample\n"
   ]
  },
  {
   "cell_type": "markdown",
   "id": "7d41f2d5",
   "metadata": {},
   "source": [
    "# Simple Random Sample"
   ]
  },
  {
   "cell_type": "markdown",
   "id": "dfd75416",
   "metadata": {},
   "source": [
    "- Each group of size 'n' has an equal chance of being selected"
   ]
  },
  {
   "cell_type": "markdown",
   "id": "6642069a",
   "metadata": {},
   "source": [
    "# 4 common Sampling Technique\n",
    "\n",
    "  "
   ]
  },
  {
   "cell_type": "markdown",
   "id": "daf0a96f",
   "metadata": {},
   "source": [
    "- 1.Convenience Sample\n",
    "      \n",
    "      \n",
    "      use the results that are easy to get(Not Random)"
   ]
  },
  {
   "cell_type": "markdown",
   "id": "348b3a6f",
   "metadata": {},
   "source": [
    "- 2.Systematic Sampling\n",
    "  \n",
    "    \n",
    "    Put a population in some order and select every 'kth' member"
   ]
  },
  {
   "cell_type": "markdown",
   "id": "b481958f",
   "metadata": {},
   "source": [
    "- 3.Stratafied Sample\n",
    "   \n",
    "    Break population into some subgroup based on a characterstics, then sample each group"
   ]
  },
  {
   "cell_type": "markdown",
   "id": "4cc7567a",
   "metadata": {},
   "source": [
    "- 4.Cluster Sample\n",
    "\n",
    "   - Devide population  into group/\"Clusters\"(Regardless of Characterstics),\n",
    "   -   Randomely selected a cetain number of Group clusters,\n",
    "   - and then collect data from the entire cluster."
   ]
  },
  {
   "cell_type": "markdown",
   "id": "f8f72d14",
   "metadata": {},
   "source": [
    "- Note --\n",
    "  There are two types of Sampling Error\n",
    "    - 1. Non Sampling Eroor\n",
    "         \n",
    "          - had some math error /had a wrong information\n",
    "    \n",
    "    - 2. Sampling Error\n",
    "    \n",
    "         - A diffrence characterstics between Sample and Population,that will not represent 100% correct.\n",
    "          - and the diffrence in that is sampling error"
   ]
  },
  {
   "cell_type": "markdown",
   "id": "1197313d",
   "metadata": {},
   "source": [
    "# part-2- Data Analysis"
   ]
  },
  {
   "cell_type": "markdown",
   "id": "44c4d005",
   "metadata": {},
   "source": [
    "# Frequency Distrubution"
   ]
  },
  {
   "cell_type": "markdown",
   "id": "9a18f161",
   "metadata": {},
   "source": [
    "- A list of values with corresponding Frequencies."
   ]
  },
  {
   "cell_type": "markdown",
   "id": "93d06f6d",
   "metadata": {},
   "source": [
    " # Class Width:"
   ]
  },
  {
   "cell_type": "markdown",
   "id": "f74f4fc0",
   "metadata": {},
   "source": [
    "- Diffrences between two \"lower class limits\""
   ]
  },
  {
   "cell_type": "markdown",
   "id": "848a5714",
   "metadata": {},
   "source": [
    "- Class--A group of Data"
   ]
  },
  {
   "cell_type": "code",
   "execution_count": 1,
   "id": "3528d0c2",
   "metadata": {},
   "outputs": [],
   "source": [
    "# Lower Class limit: Smallest value belonging to a class\n",
    "# Upper class Limit: largest value in a class"
   ]
  },
  {
   "cell_type": "markdown",
   "id": "85e06ce7",
   "metadata": {},
   "source": [
    "# Steps to implement Frequency:\n",
    "- step1:\n",
    "- 1.How many class intervals need to Consider\n",
    "- 2.How much class width"
   ]
  },
  {
   "cell_type": "code",
   "execution_count": null,
   "id": "c43d3abf",
   "metadata": {},
   "outputs": [],
   "source": [
    "- ex- There are 80 cars 50 are domestic and 30 are foreign cars "
   ]
  },
  {
   "cell_type": "code",
   "execution_count": null,
   "id": "f0b9e150",
   "metadata": {},
   "outputs": [],
   "source": [
    "# Frequency Table: To convert a catogorical Data into Tabular Form.\n",
    "\n",
    "\n",
    "   Class              Frequency\n",
    "\n",
    "Domestics                50\n",
    "\n",
    "Foreign                  30"
   ]
  },
  {
   "cell_type": "markdown",
   "id": "4735ac00",
   "metadata": {},
   "source": [
    "# Graphical representation: barplot,bargraph\n",
    "  \n",
    "\n",
    "- X=class(catogorical)\n",
    "- Y=Frequency(numerical)"
   ]
  },
  {
   "cell_type": "code",
   "execution_count": 4,
   "id": "d10c05cc",
   "metadata": {},
   "outputs": [
    {
     "data": {
      "image/png": "[encoded data removed]",
      "text/plain": [
       "<Figure size 432x288 with 1 Axes>"
      ]
     },
     "metadata": {
      "needs_background": "light"
     },
     "output_type": "display_data"
    }
   ],
   "source": [
    "import matplotlib.pyplot as plt\n",
    "\n",
    "# Data\n",
    "categories = ['Domestic', 'Foreign']\n",
    "frequencies = [50, 30]\n",
    "\n",
    "# Bar graph\n",
    "plt.bar(categories, frequencies, color=['blue', 'green'])\n",
    "\n",
    "# Adding labels and title\n",
    "plt.xlabel('Categories')\n",
    "plt.ylabel('Frequency')\n",
    "plt.title('Domestic vs Foreign Frequency')\n",
    "\n",
    "# Display the graph\n",
    "plt.show()\n",
    "\n"
   ]
  },
  {
   "cell_type": "code",
   "execution_count": 11,
   "id": "40828419",
   "metadata": {},
   "outputs": [
    {
     "data": {
      "image/png": "[encoded data removed]",
      "text/plain": [
       "<Figure size 432x288 with 1 Axes>"
      ]
     },
     "metadata": {},
     "output_type": "display_data"
    }
   ],
   "source": [
    "import matplotlib.pyplot as plt\n",
    "\n",
    "# Data\n",
    "categories = ['Domestic', 'Foreign']\n",
    "frequencies = [50, 30]\n",
    "\n",
    "# Pie chart\n",
    "plt.pie(frequencies, labels=categories, autopct='%1.1f%%', \n",
    "        colors=['blue', 'green'], startangle=90)\n",
    "\n",
    "# Adding a title\n",
    "plt.title('Domestic vs Foreign Frequency')\n",
    "\n",
    "# Display the pie chart\n",
    "plt.show()\n"
   ]
  },
  {
   "cell_type": "markdown",
   "id": "9a23ef12",
   "metadata": {},
   "source": [
    "# Frequency Distribution"
   ]
  },
  {
   "cell_type": "code",
   "execution_count": null,
   "id": "40d1219b",
   "metadata": {},
   "outputs": [],
   "source": [
    "# class interval= 2^k >= no. of observation\n",
    "                = 2^7>=80\n",
    "so, number of class frequency are(k) =7"
   ]
  },
  {
   "cell_type": "code",
   "execution_count": null,
   "id": "11971e2f",
   "metadata": {},
   "outputs": [],
   "source": [
    "Find the Minimum and maximum price/value of the cars \n",
    "let's consider\n",
    "min=15k$\n",
    "max=35k$"
   ]
  },
  {
   "cell_type": "code",
   "execution_count": null,
   "id": "d0394ad1",
   "metadata": {},
   "outputs": [],
   "source": [
    "# Class Width=(max-min)/k\n",
    "             = (35-15)/7\n",
    "             =3"
   ]
  },
  {
   "cell_type": "markdown",
   "id": "0bff68fd",
   "metadata": {},
   "source": [
    "# frequency distibution table"
   ]
  },
  {
   "cell_type": "code",
   "execution_count": null,
   "id": "78d666a9",
   "metadata": {},
   "outputs": [],
   "source": [
    "Data distribution is generated by histogram\n",
    " Histogram will generate by class interval vs class frequency\n",
    "Class interval vs class frequency is generated from raw data"
   ]
  },
  {
   "cell_type": "code",
   "execution_count": null,
   "id": "86dd0b1f",
   "metadata": {},
   "outputs": [],
   "source": [
    "Class interval     Class Frequency1\n",
    "\n",
    "15-18                    \n",
    "18-21                    \n",
    "21-24\n",
    "24-27\n",
    "27-30\n",
    "30-33\n",
    "33-36\n"
   ]
  },
  {
   "cell_type": "code",
   "execution_count": null,
   "id": "a191a997",
   "metadata": {},
   "outputs": [],
   "source": [
    "Class interval       Class Frequency1\n",
    "15-17                    8\n",
    "18-20                    23\n",
    "21-23                    17\n",
    "24-26                    18\n",
    "27-29                    8\n",
    "30-32                    4\n",
    "33-34                    2"
   ]
  },
  {
   "cell_type": "markdown",
   "id": "1406e13a",
   "metadata": {},
   "source": [
    "# mean/average\n",
    "\n",
    "mean(x-bar)=(x1+x2+x3+....+xn)/n"
   ]
  },
  {
   "cell_type": "markdown",
   "id": "bb5a6ee7",
   "metadata": {},
   "source": [
    "# Median/mid point\n",
    "\n",
    "(upper class+lower class)/2"
   ]
  },
  {
   "cell_type": "markdown",
   "id": "ab3d6d6e",
   "metadata": {},
   "source": [
    "# Mode\n",
    "\n",
    "Most repeted number "
   ]
  },
  {
   "cell_type": "code",
   "execution_count": null,
   "id": "f8922ff6",
   "metadata": {},
   "outputs": [],
   "source": [
    "# class Boundries\n",
    "\n",
    "used to separate classes with out gap"
   ]
  },
  {
   "cell_type": "markdown",
   "id": "bd700f26",
   "metadata": {},
   "source": [
    "# relative frequency distibution:\n"
   ]
  },
  {
   "cell_type": "code",
   "execution_count": null,
   "id": "4a84d6fc",
   "metadata": {},
   "outputs": [],
   "source": [
    "# It will give a percentage\n",
    "formula=(class frequency/Total frequency)*100"
   ]
  },
  {
   "cell_type": "code",
   "execution_count": null,
   "id": "3e617f88",
   "metadata": {},
   "outputs": [],
   "source": [
    "Class interval       Class Frequency1      relative frequency\n",
    "15-17                 8                             10 \n",
    "18-20                 23                            28.75 \n",
    "21-23                 17                            21.25                    \n",
    "24-26                 18                            22.5\n",
    "27-29                 8                             10\n",
    "30-32                 4                             5\n",
    "33-34                 2                             2.5"
   ]
  },
  {
   "cell_type": "code",
   "execution_count": null,
   "id": "698bba25",
   "metadata": {},
   "outputs": [],
   "source": [
    "# Cumulatatiue frequency distribution:\n",
    "Adds sequential classes togather"
   ]
  },
  {
   "cell_type": "code",
   "execution_count": null,
   "id": "e2a6f8d9",
   "metadata": {},
   "outputs": [],
   "source": [
    "Class interval       Class Frequency1      relative frequency      Cumulatatiue frequency\n",
    "15-17                 8                             10                  \n",
    "18-20                 23                            28.75 \n",
    "21-23                 17                            21.25                    \n",
    "24-26                 18                            22.5\n",
    "27-29                 8                             10\n",
    "30-32                 4                             5\n",
    "33-34                 2                             2.5"
   ]
  },
  {
   "cell_type": "markdown",
   "id": "3b70342c",
   "metadata": {},
   "source": [
    "# Graphical representation"
   ]
  },
  {
   "cell_type": "code",
   "execution_count": 6,
   "id": "5900bbb4",
   "metadata": {
    "scrolled": true
   },
   "outputs": [
    {
     "data": {
      "image/png": "[encoded data removed]",
      "text/plain": [
       "<Figure size 432x288 with 1 Axes>"
      ]
     },
     "metadata": {
      "needs_background": "light"
     },
     "output_type": "display_data"
    }
   ],
   "source": [
    "import matplotlib.pyplot as plt\n",
    "\n",
    "# Data\n",
    "class_intervals = ['15-17', '18-20', '21-23', '24-26', '27-29', '30-32', '33-34']\n",
    "class_frequencies = [8, 23, 17, 18, 8, 4, 2]\n",
    "\n",
    "# Convert class intervals to numerical values for plotting\n",
    "start_values = [int(interval.split('-')[0]) for interval in class_intervals]\n",
    "\n",
    "# Histogram\n",
    "plt.hist(start_values, bins=[15, 18, 21, 24, 27, 30, 33, 35],\n",
    "         weights=class_frequencies, edgecolor='black')\n",
    "\n",
    "# Adding labels and title\n",
    "plt.xlabel('Class Intervals')\n",
    "plt.ylabel('Class Frequency')\n",
    "plt.title('Histogram of Class Frequencies')\n",
    "\n",
    "# Display the graph\n",
    "plt.show()\n"
   ]
  },
  {
   "cell_type": "code",
   "execution_count": 7,
   "id": "16d51521",
   "metadata": {},
   "outputs": [
    {
     "data": {
      "image/png": "[encoded data removed]",
      "text/plain": [
       "<Figure size 432x288 with 1 Axes>"
      ]
     },
     "metadata": {
      "needs_background": "light"
     },
     "output_type": "display_data"
    }
   ],
   "source": [
    "import matplotlib.pyplot as plt\n",
    "import numpy as np\n",
    "\n",
    "# Data\n",
    "class_intervals = ['15-17', '18-20', '21-23', '24-26', '27-29', '30-32', '33-34']\n",
    "class_frequencies = [8, 23, 17, 18, 8, 4, 2]\n",
    "\n",
    "# Convert class intervals to numerical values for plotting\n",
    "start_values = [int(interval.split('-')[0]) for interval in class_intervals]\n",
    "\n",
    "# Calculate cumulative frequencies\n",
    "cumulative_frequencies = np.cumsum(class_frequencies)\n",
    "\n",
    "# Plot cumulative distribution function (CDF)\n",
    "plt.step(start_values, cumulative_frequencies, where='post', color='blue')\n",
    "\n",
    "# Adding labels and title\n",
    "plt.xlabel('Class Intervals')\n",
    "plt.ylabel('Cumulative Frequency')\n",
    "plt.title('Cumulative Distribution Function (CDF)')\n",
    "\n",
    "# Display the graph\n",
    "plt.show()\n"
   ]
  },
  {
   "cell_type": "markdown",
   "id": "a4fb7982",
   "metadata": {},
   "source": [
    "# part-3-Describing Data"
   ]
  },
  {
   "cell_type": "markdown",
   "id": "2020d319",
   "metadata": {},
   "source": [
    "- There are 5 characterstics \n",
    "   \n",
    "    - 1.Center/central tendency\n",
    "    - 2.Variation\n",
    "    - 3.Distibution\n",
    "    - 4.Outlier\n",
    "    - 5.Changes Over time"
   ]
  },
  {
   "cell_type": "markdown",
   "id": "d7e7c4d7",
   "metadata": {},
   "source": [
    "- Center: The Middle of The data set\n",
    "    - There Are 3 ways to calculate\n",
    "       - 1.Mean\n",
    "       - 2.median\n",
    "       - 3.Mode"
   ]
  },
  {
   "cell_type": "markdown",
   "id": "fd3989f3",
   "metadata": {},
   "source": [
    "# Mean"
   ]
  },
  {
   "cell_type": "markdown",
   "id": "31ea0274",
   "metadata": {},
   "source": [
    "- arithmatic Average:(Add all the values/number of values)\n",
    "  - Mean=(∑ x)/no.of values\n",
    "  -  = x(bar)=\n",
    "n\n",
    "∑ xi \n",
    "i=1\n",
    "/n\n",
    "    - ∑ = sum\n",
    "    - x= data value\n",
    "     - n=no. of items/values in a sample\n",
    "      - N=no. of items in a Population\n",
    "       - xˉ(x bar)= sample mean\n",
    "       - μ=population\n",
    "\n",
    "- xˉ(x bar)=(∑ x)/n=====sample\n",
    "- μ=(∑ x)/N==== population"
   ]
  },
  {
   "cell_type": "code",
   "execution_count": null,
   "id": "1fa424f4",
   "metadata": {},
   "outputs": [],
   "source": [
    " sample data=12+34+56+78+23\n",
    "x(bar)=\n",
    "n\n",
    "∑ xi \n",
    "i=1\n",
    "/n\n",
    "\n",
    "(12+34+56+78+23)/5=40.6"
   ]
  },
  {
   "cell_type": "markdown",
   "id": "a7256809",
   "metadata": {},
   "source": [
    "# Median: \n",
    "- The Middle Value of a data set\n",
    "- 50 percentile of data"
   ]
  },
  {
   "cell_type": "code",
   "execution_count": null,
   "id": "2fe69eaa",
   "metadata": {},
   "outputs": [],
   "source": [
    "- Data must be in order/arrange the data into ascending or descending\n",
    "      - find middele value:\n",
    "           \n",
    "            - if Odd number of items then median is the middle number\n",
    "               1,4,2,4,2==2 is median\n",
    "            - if even number of items then the median is the mean of the two middle values\n",
    "                1,2,3,4,5,5\n",
    "                3+4/2=3.5"
   ]
  },
  {
   "cell_type": "code",
   "execution_count": null,
   "id": "982ad9dd",
   "metadata": {},
   "outputs": [],
   "source": [
    "Note:  \n",
    "    - Both mean and midian will explain about central point\n",
    "    - Both will not explain about minimum and maximum point\n",
    "    \n",
    "Q. is both concepts effect by minimum and maximum values?\n",
    " ans:with huge observation either min or max: mean will effect\n",
    "                                            : median will not effect\n",
    "    \n",
    "    median will not affect by outliers and mean will affect by outlier\n",
    "                    \n",
    "                    \n",
    "        ex-\n",
    "        Assume that Indian income\n",
    " 50k , 60k, 70k,80k, 100k\n",
    "What is the average: 50+60+70+80+100/5= 360/5= 70k\n",
    "What is the median = 70k\n",
    "Assume that Indian income\n",
    " 50k , 60k, 70k,80k, 100k, 100crs\n",
    "What is the average: 50+60+70+80+100+10000k/5= 360/5= 7crs\n",
    "Median = 70+80/2= 75k \n",
    "Poverty number is pulling down middile class number when you do average\n",
    "Rich number is pulling up middild class number when you do average\n",
    "Outlier can be min value or can be max value"
   ]
  },
  {
   "cell_type": "markdown",
   "id": "4bb19c02",
   "metadata": {},
   "source": [
    "# Mode\n",
    "\n",
    "The most commonly occuring data values"
   ]
  },
  {
   "cell_type": "code",
   "execution_count": null,
   "id": "31daaebc",
   "metadata": {},
   "outputs": [],
   "source": [
    "- 1,1,1,1,2,3,4,5,6\n",
    "  mode=1\n",
    "\n",
    "- 1,1,1,2,2,2,3,3,4,5\n",
    "   mode=1,2- bimode\n",
    "    \n",
    "- 1,2,3,4,5,6\n",
    "\n",
    "  no mode"
   ]
  },
  {
   "cell_type": "markdown",
   "id": "c998ab6a",
   "metadata": {},
   "source": [
    "# Mean of frequency Distibution:"
   ]
  },
  {
   "cell_type": "code",
   "execution_count": null,
   "id": "05314684",
   "metadata": {},
   "outputs": [],
   "source": [
    " Age     frequency     x(midpoint)      f*x\n",
    "    \n",
    "21-30      28           25.5             714\n",
    "31-40      30           35.5             1065\n",
    "41-50      12           45.5             546\n",
    "51-60      2            55.5             111\n",
    "61-70      2            65.5             131\n",
    "71-80      2            75.5             151\n",
    "        \n",
    "        n=76          ∑f*x=2718    X(bar)=(∑fx)/n\n",
    "                                        =  2718/76=35.76\n",
    "\n"
   ]
  },
  {
   "cell_type": "code",
   "execution_count": null,
   "id": "59cdcb7a",
   "metadata": {},
   "outputs": [],
   "source": [
    "# there are five test in your school assignment=15% classtest one=20% ct2=20% ct3=20% final test=25%\n",
    "\n",
    "and you got 80,70,78,89,95 respectively calculate how much percentage you get total\n",
    "\n",
    "\n",
    "test    w       x         xw\n",
    "\n",
    "asn     15      80        12\n",
    "t1      20      70        14\n",
    "t2      20      78        15.6\n",
    "t3      20      89        17.8\n",
    "f       25      95        23.75\n",
    "     \n",
    "     n=100               ∑xw=83.15\n",
    "        \n",
    "        \n",
    "        x(bar)=∑xw/100=83.15/100=.8315=83.15\n",
    "\n"
   ]
  },
  {
   "cell_type": "markdown",
   "id": "416c4265",
   "metadata": {},
   "source": [
    "# Distribution"
   ]
  },
  {
   "cell_type": "code",
   "execution_count": 1,
   "id": "cb511def",
   "metadata": {},
   "outputs": [
    {
     "data": {
      "image/png": "[encoded data removed]",
      "text/plain": [
       "<Figure size 864x432 with 3 Axes>"
      ]
     },
     "metadata": {
      "needs_background": "light"
     },
     "output_type": "display_data"
    }
   ],
   "source": [
    "import numpy as np\n",
    "import matplotlib.pyplot as plt\n",
    "\n",
    "# Set random seed for reproducibility\n",
    "np.random.seed(42)\n",
    "\n",
    "# Generate data for a normal distribution\n",
    "normal_data = np.random.normal(loc=0, scale=1, size=1000)\n",
    "\n",
    "# Generate data for a left-skewed distribution\n",
    "left_skewed_data = np.random.exponential(scale=1, size=1000) * -1\n",
    "\n",
    "# Generate data for a right-skewed distribution\n",
    "right_skewed_data = np.random.exponential(scale=1, size=1000)\n",
    "\n",
    "# Plot histograms for each distribution\n",
    "plt.figure(figsize=(12, 6))\n",
    "\n",
    "plt.subplot(1, 3, 1)\n",
    "plt.hist(normal_data, bins=30, color='blue', edgecolor='black')\n",
    "plt.title('Normal Distribution')\n",
    "\n",
    "plt.subplot(1, 3, 2)\n",
    "plt.hist(left_skewed_data, bins=30, color='green', edgecolor='black')\n",
    "plt.title('Left-Skewed Distribution')\n",
    "\n",
    "plt.subplot(1, 3, 3)\n",
    "plt.hist(right_skewed_data, bins=30, color='orange', edgecolor='black')\n",
    "plt.title('Right-Skewed Distribution')\n",
    "\n",
    "plt.show()\n"
   ]
  },
  {
   "cell_type": "markdown",
   "id": "cda0f798",
   "metadata": {},
   "source": [
    "- We have total 3 distributions\n",
    " -    1) Left skewed\n",
    "           -  Imagine real axis left side : negative value\n",
    "           -  Negative skewd\n",
    "           -  Skewd means pulling the data\n",
    "           -  Data pull or skew happen because of outliers\n",
    "           -  Mean will affect by outliers  Median always 50perenctile                   data\n",
    "           -  Mode is highest peak\n",
    "           -  Mean < Median<Mode\n",
    "-     2) Right skewd:  Postive skewd\n",
    "          -  Mean>Median>Mode\n",
    "          -  \n",
    "-   3) No skew\n",
    "          -  Normal distribution\n",
    "          -  Bell shaped curve\n",
    "          -  50 % of data both sides  Mean= Median=Mode\n",
    "          -  All the maths developed by assumption on data follows Normal distribution \n",
    "            Any type of distribution will convert into Normal distribution only\n",
    "          -  Then will apply maths  Any exam : GMAT/GATE/CAT \n"
   ]
  },
  {
   "cell_type": "markdown",
   "id": "0168231f",
   "metadata": {},
   "source": [
    "# Part-4 -Variation\n",
    " \n",
    " How the data is spread"
   ]
  },
  {
   "cell_type": "code",
   "execution_count": null,
   "id": "ff2af2fc",
   "metadata": {},
   "outputs": [],
   "source": [
    "# lets assum \n",
    "\n",
    "3 People went to 3 diffrent banks and their waiting time \n",
    "\n",
    "\n",
    "bank   p1     p2     p3      mean(xbar)\n",
    " \n",
    "1      6     6       6         6\n",
    "\n",
    "\n",
    "2     4      7       7         6\n",
    "\n",
    "\n",
    "3    1       3       14        6"
   ]
  },
  {
   "cell_type": "markdown",
   "id": "65f36aaf",
   "metadata": {},
   "source": [
    "# Ways to calculate Data dispersion/variation\n",
    "\n",
    "\n",
    "- Range\n",
    "- Mean Deviation\n",
    "- Absolute Mean deviation\n",
    "- Variance\n",
    "- Standars Deviation"
   ]
  },
  {
   "cell_type": "markdown",
   "id": "52efa7b4",
   "metadata": {},
   "source": [
    "# range\n",
    "From which point to which point,data is distributed"
   ]
  },
  {
   "cell_type": "markdown",
   "id": "cd7d7b4e",
   "metadata": {},
   "source": [
    "range= max value-min value\n",
    "1,2,3,4\n",
    "range=max-min\n",
    "     =4-1\n",
    "      3\n",
    "        \n",
    "- Easy to find\n",
    "- range never consider middle value\n",
    "- it will consider only lower and upper values"
   ]
  },
  {
   "cell_type": "markdown",
   "id": "34b61aaf",
   "metadata": {},
   "source": [
    "# mean Deviation\n",
    "\n",
    "- How much Each & every data point is deviated from mean point\n",
    "- lets assume there are 5 point 1,2,3,4,5\n",
    "- mean(xbar)=(x1+x2+x3+x4+x5)/5=1=2+3=4+5/5=3\n",
    "\n",
    "- mean(xn)\n",
    " ∑ n|xi-x(bar)|/n\n",
    "i=1\n",
    "\n"
   ]
  },
  {
   "cell_type": "code",
   "execution_count": 2,
   "id": "91e5c624",
   "metadata": {},
   "outputs": [
    {
     "name": "stdout",
     "output_type": "stream",
     "text": [
      "Mean Deviation: 2.56\n"
     ]
    }
   ],
   "source": [
    "import numpy as np\n",
    "\n",
    "# Sample data\n",
    "data = np.array([10, 15, 12, 18, 16])\n",
    "\n",
    "# Calculate the mean\n",
    "mean = np.mean(data)\n",
    "\n",
    "# Calculate the absolute deviations\n",
    "absolute_deviations = np.abs(data - mean)\n",
    "\n",
    "# Calculate the mean deviation\n",
    "mean_deviation = np.mean(absolute_deviations)\n",
    "\n",
    "print(\"Mean Deviation:\", mean_deviation)\n"
   ]
  },
  {
   "cell_type": "markdown",
   "id": "5f9dd82d",
   "metadata": {},
   "source": [
    "# Absolute mean deviation:"
   ]
  },
  {
   "cell_type": "code",
   "execution_count": null,
   "id": "de38ffe9",
   "metadata": {},
   "outputs": [],
   "source": [
    "AMD= \n",
    "      n      −\n",
    "1/n   ∑  |xi-X| \n",
    "     i=1        \n",
    "        \n",
    " Mean deviation gives total deviation as zero\n",
    " To avoid that we taken absolute value\n",
    " Absolute value giving total deviation\n",
    " The graph of |x| is a V-shape\n",
    " It is discontinue at point zero\n",
    " Anything discontinue at zero ,\n",
    "some math concepts fail  Differentiations and integration will not work \n",
    " |x| differentiation = x/|x|\n",
    " Keep x=0 ------ > 0/0 ----- indeterminant form\n"
   ]
  },
  {
   "cell_type": "markdown",
   "id": "11c431a4",
   "metadata": {},
   "source": [
    "# Variance"
   ]
  },
  {
   "cell_type": "code",
   "execution_count": null,
   "id": "0bd8d54e",
   "metadata": {},
   "outputs": [],
   "source": [
    "                   n      _\n",
    "Variance(s^2)= 1/n ∑  (Xi-x)^2\n",
    "                   i=1\n",
    "\n",
    "\n",
    "\n",
    "Variance is a statistical measure that describes the spread or dispersion of a set of values in a data set. \n",
    "It quantifies how much individual data points in the set differ from the mean (average) of the data set.\n",
    "In other words, it provides a measure of the average squared deviation of each data point from the mean."
   ]
  },
  {
   "cell_type": "markdown",
   "id": "d42d75c3",
   "metadata": {},
   "source": [
    "# standard deviation"
   ]
  },
  {
   "cell_type": "code",
   "execution_count": null,
   "id": "3feaf9ab",
   "metadata": {},
   "outputs": [],
   "source": [
    "- measures the Average distance of Data values are from the mean\n",
    "- Standard Deviation(s)= root(Variance)\n",
    "- Never -Ve never zero unless all the entries are same\n",
    "- gretely afected by outliers\n",
    "- \n",
    "                         n      _\n",
    "Variance(s^2)= root( 1/n ∑  (Xi-x)^2 )\n",
    "                         i=1\n",
    "\n",
    "                                   \n",
    "                                   \n",
    "Coefficient of standard deviation=(s/x(bar) *100)     \n"
   ]
  },
  {
   "cell_type": "markdown",
   "id": "26f79646",
   "metadata": {},
   "source": [
    "# Persentile&quartile"
   ]
  },
  {
   "cell_type": "code",
   "execution_count": null,
   "id": "b0388d79",
   "metadata": {},
   "outputs": [],
   "source": [
    "- A percentile is a statistical measure that indicates the relative position \n",
    "- of a particular data point within a dataset\n",
    "- to calculate percentile of a data set first arrange the data set into ascending order\n",
    "\n",
    "10 11 12 13 14 15 16 17 18 19 20\n",
    "How many data points are there 11 data points are there\n",
    "Median = 15 ====== > 50 percentile\n",
    "Out of the total data (11 observations) 50 percentage of the data has less than value 15\n",
    "Half the data less than median value, that’s why median = 50 percentile\n",
    "\n",
    "n=11  , p=15   \n",
    " \n",
    "                   p\n",
    "percentile=(n+1)* ---   \n",
    "                  100\n",
    "    \n",
    "(11+1)*50/100=6 6th position is the 50 percentile that is 15\n",
    "\n",
    "\n",
    "# Quartile \n",
    "- data divided into 4 parts\n",
    "\n",
    "    0 ==========     25 ============ 50 ========= 75 ==========100\n",
    "Min_value ========== Q1============== Q2=============Q3============max value\n",
    "Min_value========== 25p ============ 50p ============ 75p===========max value\n",
    "Quartile 1 : Q1 ====== > 25p\n",
    "Quartile 2: Q2 ======= > 50p\n",
    "Quartile 3: Q3 ======= > 75p"
   ]
  },
  {
   "cell_type": "markdown",
   "id": "731f6a49",
   "metadata": {},
   "source": [
    "# outlier Analysis"
   ]
  },
  {
   "cell_type": "code",
   "execution_count": null,
   "id": "d3fd5c8b",
   "metadata": {},
   "outputs": [],
   "source": [
    "Outlier is an observation it skews your entire data\n",
    "Outlier might be a huge max value or a huge min value"
   ]
  },
  {
   "cell_type": "code",
   "execution_count": 8,
   "id": "56fa6595",
   "metadata": {},
   "outputs": [
    {
     "data": {
      "image/png": "[encoded data removed]",
      "text/plain": [
       "<Figure size 432x288 with 1 Axes>"
      ]
     },
     "metadata": {
      "needs_background": "light"
     },
     "output_type": "display_data"
    }
   ],
   "source": [
    "data=(10,11,12,13,14,15,16,17,18,19,20)\n",
    "plt.boxplot(data)\n",
    "plt.show()"
   ]
  },
  {
   "cell_type": "code",
   "execution_count": null,
   "id": "024fc530",
   "metadata": {},
   "outputs": [],
   "source": [
    "IQR=Inter Qurtile Range\n",
    "   = Q3-Q1\n",
    "# outlier cutoff   \n",
    "Outlier = Q3 + 1.5* IQR\n",
    "Outlier = Q1 - 1.5* IQR\n",
    "Mild outlier : 1.5* IQR\n",
    "Huge outlier : 3*IQR"
   ]
  },
  {
   "cell_type": "code",
   "execution_count": null,
   "id": "a4e6db44",
   "metadata": {},
   "outputs": [],
   "source": [
    "  +------------------------------------------------------------------------+\n",
    "  |                       Whisker (1.5 * IQR)                               |\n",
    "  |                        +------------------+                            |\n",
    "  |  Potential Outliers    |                  | Potential Outliers         |\n",
    "  |    +------+            |                  |            +------+       |\n",
    "  |    |      |            |                  |            |      |       |\n",
    "  |    |      |            |                  |            |      |       |\n",
    "  +----|------+------------+------------------+------------+------+-------+\n",
    "         |                                                |\n",
    "         +---------------- Box (IQR) --------------------+\n"
   ]
  },
  {
   "cell_type": "code",
   "execution_count": null,
   "id": "92c1f0d3",
   "metadata": {},
   "outputs": [],
   "source": [
    "# Box Plot\n",
    "\n",
    "         |                       Q2                            | \n",
    "         |           ___________________________               |\n",
    "         |          |            |              |              |\n",
    " outlier |          |            |              |              | out lier   Whisker\n",
    "         |----------|            |              |--------------|\n",
    "         |          |            |              |              |\n",
    "         |          |____________|______________|              |\n",
    "         |          Q1          50p             Q3            max\n",
    "        min         <----------------------------->\n",
    "   (Q1-1.5*IQR)                IQR(Q3-Q1)                (Q3-1.5*IQR)"
   ]
  },
  {
   "cell_type": "code",
   "execution_count": null,
   "id": "643ca800",
   "metadata": {},
   "outputs": [],
   "source": [
    "Outlier : Q3 + 1.5*IQR or Q3+3*IQR\n",
    "          Q1-1.5*IQR   or Q1-3*IQR"
   ]
  },
  {
   "cell_type": "code",
   "execution_count": null,
   "id": "19c74810",
   "metadata": {},
   "outputs": [],
   "source": [
    "# 3 types of analysis\n",
    "\n",
    "Age ======== numerical\n",
    "Income ========== numerical\n",
    "Gender =========== categorical\n",
    "Variables /features/columns/\n",
    "- 1.Univariate analysis : one\n",
    "      - We are analyse only age column\n",
    "        Only income\n",
    "        Only gender\n",
    "- 2.Bi variate analysis: tw0\n",
    "    - Analyse age and income together\n",
    "    \n",
    "- 3.Multi variate analysis:\n",
    "       - Analyse age --- gender --- income together"
   ]
  },
  {
   "cell_type": "code",
   "execution_count": null,
   "id": "1c6ffaaf",
   "metadata": {},
   "outputs": [],
   "source": [
    "Univariate : bar/pie/histogram/boxplot\n",
    "Bivariate : scatter plots\n",
    "Age income\n",
    "30 50k\n",
    "35 55k\n",
    "40 6ok\n",
    "If you have a data has 100 columns ====100dimensions data\n",
    "Age and gender 2 colmns ====== 2D data\n",
    "(30,50k) (35,55k) (40,60k)"
   ]
  },
  {
   "cell_type": "code",
   "execution_count": null,
   "id": "77a1e5dd",
   "metadata": {},
   "outputs": [],
   "source": [
    "# Scatter plot:"
   ]
  },
  {
   "cell_type": "code",
   "execution_count": 10,
   "id": "ebd5ab37",
   "metadata": {},
   "outputs": [
    {
     "data": {
      "image/png": "[encoded data removed]",
      "text/plain": [
       "<Figure size 432x288 with 1 Axes>"
      ]
     },
     "metadata": {
      "needs_background": "light"
     },
     "output_type": "display_data"
    }
   ],
   "source": [
    "import matplotlib.pyplot as plt\n",
    "import numpy as np\n",
    "\n",
    "# Generate random data for demonstration\n",
    "np.random.seed(42)\n",
    "x = np.random.rand(50)\n",
    "y = 2 * x + 1 + 0.1 * np.random.randn(50)  # Linear relationship with some noise\n",
    "\n",
    "# Create a scatter plot\n",
    "plt.scatter(x, y, marker='o', label='Data Points')\n",
    "\n",
    "# Add labels and a title\n",
    "plt.xlabel('X-axis')\n",
    "plt.ylabel('Y-axis')\n",
    "plt.title('Scatter Plot Example')\n",
    "\n",
    "# Display the plot\n",
    "plt.legend()\n",
    "plt.show()\n"
   ]
  },
  {
   "cell_type": "code",
   "execution_count": null,
   "id": "748ac883",
   "metadata": {},
   "outputs": [],
   "source": [
    "# corelation\n",
    "1. if age increases income also increases- positive corelation\n",
    "2. if age increasing income decreasing - negetive corelation\n",
    "3. if age increses income constant- No relation"
   ]
  },
  {
   "cell_type": "markdown",
   "id": "d619b29a",
   "metadata": {},
   "source": [
    "# Covariance"
   ]
  },
  {
   "cell_type": "code",
   "execution_count": null,
   "id": "ffb9faff",
   "metadata": {},
   "outputs": [],
   "source": [
    "- Covariance is a statistical measure that quantifies \n",
    "  the degree to which two variables change together.\n",
    "- Covariance will say Just, A relation is there between two variables or not\n",
    "  ex- age vs income\n",
    "      income vs age\n",
    "       \n",
    "    Age Vs Age\n",
    "    Income VS Income\n",
    "    \n",
    "              \n",
    "              n        _      _\n",
    "    Cov(x,x)= ∑    (xi-x) (xi-x)\n",
    "              i=1 \n",
    "             ___________________\n",
    "                   n-1\n",
    "                \n",
    "                \n",
    "                �\n",
    "n is the number of data points.\n",
    "xi and xiare the individual data points for variables X and x.\n",
    "_\n",
    "X are the means of variables X and , X respectively.\n",
    "                  \n",
    "              n        _      _\n",
    "    Cov(x,y)= ∑    (xi-x) (yi-y)\n",
    "              i=1 \n",
    "             ___________________\n",
    "                   n-1\n",
    "                \n",
    "- Covariance never provides how much percentage two variables are related\n",
    "                "
   ]
  },
  {
   "cell_type": "code",
   "execution_count": null,
   "id": "ac614f77",
   "metadata": {},
   "outputs": [],
   "source": [
    "# note: Covariance Only deals with relation and corelation will provide how much the relation"
   ]
  },
  {
   "cell_type": "markdown",
   "id": "ad0a4f0c",
   "metadata": {},
   "source": [
    "# Corelation"
   ]
  },
  {
   "cell_type": "code",
   "execution_count": null,
   "id": "b911e979",
   "metadata": {},
   "outputs": [],
   "source": [
    "- It is also called Pearson corelation denoted with \"r\"\n",
    "- \n",
    "       cov(x,y)\n",
    "r= ________________\n",
    "    root(v(x) v(y))\n",
    "       \n",
    "        cov(x,y) \n",
    "=  ________________\n",
    "    std(x) std(y)\n",
    "    \n",
    "       codZ(x,y)\n",
    "=    _______________\n",
    "      σx * σy\n",
    "\n",
    "    \n",
    "    \n",
    "                  n        _      _\n",
    "            (1/n) ∑    (xi-x) (yi-y)\n",
    "                  i=1 \n",
    "=    _____________________________________________\n",
    "\n",
    "                       n       _             _\n",
    "        root(    (1/n) ∑   (xi-x)^2 (1/n)(yi-y)^2 )\n",
    "                       i=1 \n",
    "     \n",
    "    \n",
    "    \n",
    "    \n",
    "    \n",
    "                  n        _      _\n",
    "                  ∑    (xi-x) (yi-y)\n",
    "                  i=1 \n",
    "=    _____________________________________________\n",
    "\n",
    "               n       _             _\n",
    "        root(  ∑   (xi-x)^2 (1/n)(yi-y)^2 )\n",
    "               i=1 \n",
    "     "
   ]
  },
  {
   "cell_type": "code",
   "execution_count": null,
   "id": "bd5dcf6e",
   "metadata": {},
   "outputs": [],
   "source": [
    "# Note:\n",
    "       Variance=measurement------mean,median,mode,Q1,Q2,Q3 etc\n",
    "       varient= relation---------Age,income etc"
   ]
  },
  {
   "cell_type": "markdown",
   "id": "f8341f0f",
   "metadata": {},
   "source": [
    "# Normal Distribution / Empirical Rule:"
   ]
  },
  {
   "cell_type": "code",
   "execution_count": null,
   "id": "bcdf05e2",
   "metadata": {},
   "outputs": [],
   "source": [
    "1. Bell shaped curve\n",
    "2. Above mean and below mean equal amount of data distributed\n",
    "3. Mean=Medin= Mode (No skew)\n",
    "4.Empirical rule valid if data follows normal distribution only\n",
    "5. if a data set lies within two standard deviation of the mean  it is considered usual."
   ]
  },
  {
   "cell_type": "code",
   "execution_count": null,
   "id": "5ba94ed4",
   "metadata": {},
   "outputs": [],
   "source": [
    "formula\n",
    "\n",
    "               -(x-μ)2\n",
    "               ------\n",
    "         1      (μ)^2\n",
    "f(x)=  -----  e                Area under Curve\n",
    "         k\n",
    "\n",
    "f(x)=68%"
   ]
  },
  {
   "cell_type": "code",
   "execution_count": null,
   "id": "0d7a78b8",
   "metadata": {},
   "outputs": [],
   "source": [
    "                            _____\n",
    "                        _     |    _\n",
    "                     _  |     |    |    _\n",
    "                  _     |     |    |      _\n",
    "               _  |     |     |    |      |   _\n",
    "             _    |     |     |    |      |     _\n",
    "          _       |     |     |    |      |       _\n",
    "        _ |       |     |     |    |      |       |  _\n",
    "__________|_______|_____|_____|____|______|_______|___________\n",
    "        μ-σ3     μ-σ2  μ-σ1   μ   μ+σ1   μ+σ2    μ+σ3\n",
    "                        |----68%----|\n",
    "                  |--------95%------------|\n",
    "          |-------------------97.7%----------------|  \n",
    "            "
   ]
  },
  {
   "cell_type": "code",
   "execution_count": null,
   "id": "7edaaf1e",
   "metadata": {},
   "outputs": [],
   "source": [
    "μ +/- 1σ=68%   one standard deviation\n",
    "μ +/-2σ =95%   two standard deviation\n",
    "μ +/-3σ =97.7% three standard deviation\n",
    "\n",
    "- Standard deviation is the measurement of data flow\n",
    "- how much observations far from mean will explain in terms of \"σ\"\n",
    "\n",
    "ex- in india petrol rates are on of average 100 it may very 2rs\n",
    "mean(μ)=100 std(σ)=2\n",
    "μ +/- σ1= 100+2,100-2=102,98\n",
    "μ +/- σ2= 100+4,100-4=104,96\n",
    "μ +/- σ3 = 100+6,100-6=106,94\n",
    "hence in india min price is 94,max is 106"
   ]
  },
  {
   "cell_type": "code",
   "execution_count": null,
   "id": "08584c4f",
   "metadata": {},
   "outputs": [],
   "source": [
    "# Note : in mathematic Distance is standard deviation\n",
    "ex-distance between hyd-benguluru is 600km"
   ]
  },
  {
   "cell_type": "markdown",
   "id": "5853e65b",
   "metadata": {},
   "source": [
    "# Chebyshev theorem"
   ]
  },
  {
   "cell_type": "code",
   "execution_count": null,
   "id": "780c078c",
   "metadata": {},
   "outputs": [],
   "source": [
    "- If data is not comes under normal distribution then we apply .\n",
    "K=2\n",
    "For K =2 standard deviations it will cover 75% of data\n",
    "When data follow normal distribution : 2 standard deviations ==== > 95%\n",
    "When data does nor follow ND : 2 standard deviation ======== > 75% (1-1/k^2)\n",
    "When data follow normal distribution : 3 standard deviations ==== > 99.7%\n",
    "When data does nor follow ND : 3 standard deviation ======== > approx. : 90%"
   ]
  },
  {
   "cell_type": "code",
   "execution_count": null,
   "id": "29d9893e",
   "metadata": {},
   "outputs": [],
   "source": [
    "Q.What is difference between Empirical rule and Chebyshev rule\n",
    "Chebyshevs inequality is more general, stating that a minimum of just 75% of values must\n",
    "lie within two standard deviations of the mean and 88.89% within three standard deviations\n",
    "for a broad range of different probability distributions."
   ]
  },
  {
   "cell_type": "code",
   "execution_count": null,
   "id": "2f4aa73e",
   "metadata": {},
   "outputs": [],
   "source": []
  }
 ],
 "metadata": {
  "kernelspec": {
   "display_name": "Python 3 (ipykernel)",
   "language": "python",
   "name": "python3"
  },
  "language_info": {
   "codemirror_mode": {
    "name": "ipython",
    "version": 3
   },
   "file_extension": ".py",
   "mimetype": "text/x-python",
   "name": "python",
   "nbconvert_exporter": "python",
   "pygments_lexer": "ipython3",
   "version": "3.9.7"
  }
 },
 "nbformat": 4,
 "nbformat_minor": 5
}
